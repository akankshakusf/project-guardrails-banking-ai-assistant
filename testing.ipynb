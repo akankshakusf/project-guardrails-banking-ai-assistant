{
 "cells": [
  {
   "cell_type": "markdown",
   "id": "294780ef",
   "metadata": {},
   "source": [
    "#### Test if able to connect to bedrock FMs\n"
   ]
  },
  {
   "cell_type": "code",
   "execution_count": 1,
   "id": "80265d97",
   "metadata": {},
   "outputs": [],
   "source": [
    "import os \n",
    "from dotenv import load_dotenv\n",
    "os.environ[\"AWS_ACCESS_KEY_ID\"] = os.getenv(\"AWS_ACCESS_KEY_ID\")\n",
    "os.environ[\"AWS_SECRET_ACCESS_KEY\"] = os.getenv(\"AWS_SECRET_ACCESS_KEY\")\n",
    "os.environ[\"AWS_REGION\"] = os.getenv(\"AWS_REGION\")"
   ]
  },
  {
   "cell_type": "code",
   "execution_count": 2,
   "metadata": {},
   "outputs": [
    {
     "name": "stderr",
     "output_type": "stream",
     "text": [
      "INFO:__main__:✅ LLM initialized: client=<botocore.client.BedrockRuntime object at 0x7ff0ab196930> model_id='us.amazon.nova-micro-v1:0' temperature=0.1 aws_access_key_id=SecretStr('**********') aws_secret_access_key=SecretStr('**********') provider='amazon' supports_tool_choice_values=('auto', 'any', 'tool')\n",
      "INFO:langchain_aws.chat_models.bedrock_converse:Using Bedrock Converse API to generate response\n"
     ]
    },
    {
     "name": "stdout",
     "output_type": "stream",
     "text": [
      "💬 LLM Response: content=\"The capital of Canada is Ottawa. Ottawa is located in the southeastern part of the country, in the province of Ontario, along the southern bank of the Ottawa River. It is an important political, cultural, and economic center of Canada.\\n\\nOttawa was chosen as the capital in 1857, following a decision by Queen Victoria, to replace Montreal and Toronto as the nation's capital. The choice was made to balance regional interests, as Montreal and Toronto were in the more populous and industrialized province of Quebec and Ontario, respectively, while Ottawa was in a less developed region.\\n\\nThe city is home to many important government institutions, including the Parliament of Canada, which consists of the House of Commons and the Senate, as well as the official residence of the Canadian monarch, the Governor General, and the Prime Minister. The city also hosts numerous museums, galleries, and cultural institutions, such as the National Gallery of Canada, the Canadian Museum of History, and the Canadian Museum of Nature.\\n\\nOttawa is also known for its beautiful landscapes, parks, and green spaces, including the famous Rideau Canal, which is a UNESCO World Heritage Site, and the Rideau Hall, the official residence of the Governor General of Canada. The city has a vibrant arts scene, with many theaters, music venues, and festivals throughout the year.\\n\\nIn summary, Ottawa is not only the capital of Canada but also a city rich in history, culture, and natural beauty.\" additional_kwargs={} response_metadata={'ResponseMetadata': {'RequestId': '03ccdb4d-4364-41ce-a70f-af5272b2baf0', 'HTTPStatusCode': 200, 'HTTPHeaders': {'date': 'Tue, 22 Jul 2025 12:37:54 GMT', 'content-type': 'application/json', 'content-length': '1667', 'connection': 'keep-alive', 'x-amzn-requestid': '03ccdb4d-4364-41ce-a70f-af5272b2baf0'}, 'RetryAttempts': 0}, 'stopReason': 'end_turn', 'metrics': {'latencyMs': [1614]}, 'model_name': 'us.amazon.nova-micro-v1:0'} id='run--e9139121-171d-4bf4-9d2c-85859a50e3cf-0' usage_metadata={'input_tokens': 7, 'output_tokens': 289, 'total_tokens': 296, 'input_token_details': {'cache_creation': 0, 'cache_read': 0}}\n"
     ]
    }
   ],
   "source": [
    "import boto3\n",
    "import logging\n",
    "from langchain_aws.chat_models import ChatBedrockConverse\n",
    "\n",
    "# Enable logging\n",
    "logging.basicConfig(level=logging.INFO)\n",
    "logger = logging.getLogger(__name__)\n",
    "\n",
    "# Define the model\n",
    "AMAZON_NOVA_MICRO_MODEL_ID = 'us.amazon.nova-micro-v1:0'\n",
    "\n",
    "# Initialize LLM\n",
    "llm = ChatBedrockConverse(\n",
    "    model_id=AMAZON_NOVA_MICRO_MODEL_ID,\n",
    "    temperature=0.1\n",
    ")\n",
    "\n",
    "logger.info(f\"✅ LLM initialized: {llm}\")\n",
    "\n",
    "# Run a basic test prompt\n",
    "response = llm.invoke(\"What is the capital of Canada?\")\n",
    "print(\"💬 LLM Response:\", response)\n"
   ]
  },
  {
   "cell_type": "code",
   "execution_count": 1,
   "id": "52219d0a",
   "metadata": {},
   "outputs": [
    {
     "name": "stdout",
     "output_type": "stream",
     "text": [
      "Model ID: amazon.titan-tg1-large | Provider: Amazon\n",
      "Model ID: amazon.titan-image-generator-v1:0 | Provider: Amazon\n",
      "Model ID: amazon.titan-image-generator-v1 | Provider: Amazon\n",
      "Model ID: amazon.titan-image-generator-v2:0 | Provider: Amazon\n",
      "Model ID: amazon.nova-premier-v1:0:8k | Provider: Amazon\n",
      "Model ID: amazon.nova-premier-v1:0:20k | Provider: Amazon\n",
      "Model ID: amazon.nova-premier-v1:0:1000k | Provider: Amazon\n",
      "Model ID: amazon.nova-premier-v1:0:mm | Provider: Amazon\n",
      "Model ID: amazon.nova-premier-v1:0 | Provider: Amazon\n",
      "Model ID: amazon.titan-text-premier-v1:0 | Provider: Amazon\n",
      "Model ID: amazon.nova-pro-v1:0:24k | Provider: Amazon\n",
      "Model ID: amazon.nova-pro-v1:0:300k | Provider: Amazon\n",
      "Model ID: amazon.nova-pro-v1:0 | Provider: Amazon\n",
      "Model ID: amazon.nova-lite-v1:0:24k | Provider: Amazon\n",
      "Model ID: amazon.nova-lite-v1:0:300k | Provider: Amazon\n",
      "Model ID: amazon.nova-lite-v1:0 | Provider: Amazon\n",
      "Model ID: amazon.nova-canvas-v1:0 | Provider: Amazon\n",
      "Model ID: amazon.nova-reel-v1:0 | Provider: Amazon\n",
      "Model ID: amazon.nova-reel-v1:1 | Provider: Amazon\n",
      "Model ID: amazon.nova-micro-v1:0:24k | Provider: Amazon\n",
      "Model ID: amazon.nova-micro-v1:0:128k | Provider: Amazon\n",
      "Model ID: amazon.nova-micro-v1:0 | Provider: Amazon\n",
      "Model ID: amazon.nova-sonic-v1:0 | Provider: Amazon\n",
      "Model ID: amazon.titan-embed-g1-text-02 | Provider: Amazon\n",
      "Model ID: amazon.titan-text-lite-v1:0:4k | Provider: Amazon\n",
      "Model ID: amazon.titan-text-lite-v1 | Provider: Amazon\n",
      "Model ID: amazon.titan-text-express-v1:0:8k | Provider: Amazon\n",
      "Model ID: amazon.titan-text-express-v1 | Provider: Amazon\n",
      "Model ID: amazon.titan-embed-text-v1:2:8k | Provider: Amazon\n",
      "Model ID: amazon.titan-embed-text-v1 | Provider: Amazon\n",
      "Model ID: amazon.titan-embed-text-v2:0:8k | Provider: Amazon\n",
      "Model ID: amazon.titan-embed-text-v2:0 | Provider: Amazon\n",
      "Model ID: amazon.titan-embed-image-v1:0 | Provider: Amazon\n",
      "Model ID: amazon.titan-embed-image-v1 | Provider: Amazon\n",
      "Model ID: stability.stable-diffusion-xl-v1:0 | Provider: Stability AI\n",
      "Model ID: stability.stable-diffusion-xl-v1 | Provider: Stability AI\n",
      "Model ID: ai21.jamba-instruct-v1:0 | Provider: AI21 Labs\n",
      "Model ID: ai21.jamba-1-5-large-v1:0 | Provider: AI21 Labs\n",
      "Model ID: ai21.jamba-1-5-mini-v1:0 | Provider: AI21 Labs\n",
      "Model ID: anthropic.claude-instant-v1:2:100k | Provider: Anthropic\n",
      "Model ID: anthropic.claude-instant-v1 | Provider: Anthropic\n",
      "Model ID: anthropic.claude-v2:0:18k | Provider: Anthropic\n",
      "Model ID: anthropic.claude-v2:0:100k | Provider: Anthropic\n",
      "Model ID: anthropic.claude-v2:1:18k | Provider: Anthropic\n",
      "Model ID: anthropic.claude-v2:1:200k | Provider: Anthropic\n",
      "Model ID: anthropic.claude-v2:1 | Provider: Anthropic\n",
      "Model ID: anthropic.claude-v2 | Provider: Anthropic\n",
      "Model ID: anthropic.claude-3-sonnet-20240229-v1:0:28k | Provider: Anthropic\n",
      "Model ID: anthropic.claude-3-sonnet-20240229-v1:0:200k | Provider: Anthropic\n",
      "Model ID: anthropic.claude-3-sonnet-20240229-v1:0 | Provider: Anthropic\n",
      "Model ID: anthropic.claude-3-haiku-20240307-v1:0:48k | Provider: Anthropic\n",
      "Model ID: anthropic.claude-3-haiku-20240307-v1:0:200k | Provider: Anthropic\n",
      "Model ID: anthropic.claude-3-haiku-20240307-v1:0 | Provider: Anthropic\n",
      "Model ID: anthropic.claude-3-opus-20240229-v1:0:12k | Provider: Anthropic\n",
      "Model ID: anthropic.claude-3-opus-20240229-v1:0:28k | Provider: Anthropic\n",
      "Model ID: anthropic.claude-3-opus-20240229-v1:0:200k | Provider: Anthropic\n",
      "Model ID: anthropic.claude-3-opus-20240229-v1:0 | Provider: Anthropic\n",
      "Model ID: anthropic.claude-3-5-sonnet-20240620-v1:0 | Provider: Anthropic\n",
      "Model ID: anthropic.claude-3-5-sonnet-20241022-v2:0 | Provider: Anthropic\n",
      "Model ID: anthropic.claude-3-7-sonnet-20250219-v1:0 | Provider: Anthropic\n",
      "Model ID: anthropic.claude-3-5-haiku-20241022-v1:0 | Provider: Anthropic\n",
      "Model ID: anthropic.claude-opus-4-20250514-v1:0 | Provider: Anthropic\n",
      "Model ID: anthropic.claude-sonnet-4-20250514-v1:0 | Provider: Anthropic\n",
      "Model ID: cohere.command-text-v14:7:4k | Provider: Cohere\n",
      "Model ID: cohere.command-text-v14 | Provider: Cohere\n",
      "Model ID: cohere.command-r-v1:0 | Provider: Cohere\n",
      "Model ID: cohere.command-r-plus-v1:0 | Provider: Cohere\n",
      "Model ID: cohere.command-light-text-v14:7:4k | Provider: Cohere\n",
      "Model ID: cohere.command-light-text-v14 | Provider: Cohere\n",
      "Model ID: cohere.embed-english-v3:0:512 | Provider: Cohere\n",
      "Model ID: cohere.embed-english-v3 | Provider: Cohere\n",
      "Model ID: cohere.embed-multilingual-v3:0:512 | Provider: Cohere\n",
      "Model ID: cohere.embed-multilingual-v3 | Provider: Cohere\n",
      "Model ID: deepseek.r1-v1:0 | Provider: DeepSeek\n",
      "Model ID: meta.llama3-8b-instruct-v1:0 | Provider: Meta\n",
      "Model ID: meta.llama3-70b-instruct-v1:0 | Provider: Meta\n",
      "Model ID: meta.llama3-1-8b-instruct-v1:0 | Provider: Meta\n",
      "Model ID: meta.llama3-1-70b-instruct-v1:0 | Provider: Meta\n",
      "Model ID: meta.llama3-2-11b-instruct-v1:0 | Provider: Meta\n",
      "Model ID: meta.llama3-2-90b-instruct-v1:0 | Provider: Meta\n",
      "Model ID: meta.llama3-2-1b-instruct-v1:0 | Provider: Meta\n",
      "Model ID: meta.llama3-2-3b-instruct-v1:0 | Provider: Meta\n",
      "Model ID: meta.llama3-3-70b-instruct-v1:0 | Provider: Meta\n",
      "Model ID: meta.llama4-scout-17b-instruct-v1:0 | Provider: Meta\n",
      "Model ID: meta.llama4-maverick-17b-instruct-v1:0 | Provider: Meta\n",
      "Model ID: mistral.mistral-7b-instruct-v0:2 | Provider: Mistral AI\n",
      "Model ID: mistral.mixtral-8x7b-instruct-v0:1 | Provider: Mistral AI\n",
      "Model ID: mistral.mistral-large-2402-v1:0 | Provider: Mistral AI\n",
      "Model ID: mistral.mistral-small-2402-v1:0 | Provider: Mistral AI\n",
      "Model ID: mistral.pixtral-large-2502-v1:0 | Provider: Mistral AI\n",
      "Model ID: twelvelabs.marengo-embed-2-7-v1:0 | Provider: TwelveLabs\n"
     ]
    }
   ],
   "source": [
    "import boto3\n",
    "\n",
    "# Create a Bedrock client\n",
    "bedrock = boto3.client(\"bedrock\", region_name=\"us-east-1\")  # or your region\n",
    "\n",
    "# Test: List available foundation models\n",
    "response = bedrock.list_foundation_models()\n",
    "\n",
    "# Print model IDs to verify access\n",
    "for model in response.get(\"modelSummaries\", []):\n",
    "    print(f\"Model ID: {model['modelId']} | Provider: {model['providerName']}\")\n"
   ]
  }
 ],
 "metadata": {
  "kernelspec": {
   "display_name": ".venv",
   "language": "python",
   "name": "python3"
  },
  "language_info": {
   "codemirror_mode": {
    "name": "ipython",
    "version": 3
   },
   "file_extension": ".py",
   "mimetype": "text/x-python",
   "name": "python",
   "nbconvert_exporter": "python",
   "pygments_lexer": "ipython3",
   "version": "3.12.3"
  }
 },
 "nbformat": 4,
 "nbformat_minor": 5
}
